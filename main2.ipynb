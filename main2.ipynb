{
 "cells": [
  {
   "cell_type": "code",
   "execution_count": null,
   "metadata": {},
   "outputs": [],
   "source": [
    "import pandas as pd\n",
    "import seaborn as sns\n",
    "import matplotlib.pyplot as plt"
   ]
  },
  {
   "cell_type": "code",
   "execution_count": null,
   "metadata": {},
   "outputs": [],
   "source": [
    "mitbih_train = pd.read_csv('mitbih_train.csv', header=None)\n",
    "mitbih_test = pd.read_csv('mitbih_test.csv', header=None)"
   ]
  },
  {
   "cell_type": "code",
   "execution_count": null,
   "metadata": {},
   "outputs": [],
   "source": [
    "mitbih_train.columns = [f\"feature_{i}\" for i in range(mitbih_train.shape[1] - 1)] + ['label']\n",
    "mitbih_test.columns = [f\"feature_{i}\" for i in range(mitbih_test.shape[1] - 1)] + ['label']"
   ]
  },
  {
   "cell_type": "code",
   "execution_count": null,
   "metadata": {},
   "outputs": [],
   "source": [
    "plt.figure(figsize=(12, 6))\n",
    "sns.countplot(x='label', data=mitbih_train)\n",
    "plt.title('Class distribution in train set (MITBIH)')\n",
    "plt.show()\n",
    "\n",
    "plt.figure(figsize=(12, 6))\n",
    "sns.countplot(x='label', data=mitbih_test)\n",
    "plt.title('Class distribution in test set (MITBIH)')\n",
    "plt.show()"
   ]
  },
  {
   "cell_type": "code",
   "execution_count": null,
   "metadata": {},
   "outputs": [],
   "source": [
    "ptbdb_abnormal = pd.read_csv('ptbdb_abnormal.csv', header=None)\n",
    "ptbdb_normal = pd.read_csv('ptbdb_normal.csv', header=None)"
   ]
  },
  {
   "cell_type": "code",
   "execution_count": null,
   "metadata": {},
   "outputs": [],
   "source": [
    "ptbdb_abnormal['label'] = 1\n",
    "ptbdb_normal['label'] = 0\n",
    "ptbdb = pd.concat([ptbdb_normal, ptbdb_abnormal], axis=0).reset_index(drop=True)"
   ]
  },
  {
   "cell_type": "code",
   "execution_count": null,
   "metadata": {},
   "outputs": [],
   "source": [
    "plt.figure(figsize=(12, 6))\n",
    "\n",
    "normal_example = ptbdb[ptbdb['label'] == 0].iloc[0, :-1]\n",
    "plt.plot(normal_example, label='Normal')\n",
    "plt.title('Normal series example')\n",
    "plt.legend()\n",
    "plt.show()\n",
    "\n",
    "anormal_example = ptbdb[ptbdb['label'] == 1].iloc[0, :-1]\n",
    "plt.plot(anormal_example, label='Anormal')\n",
    "plt.title('Anormal series example')\n",
    "plt.legend()\n",
    "plt.show()"
   ]
  },
  {
   "cell_type": "code",
   "execution_count": null,
   "metadata": {},
   "outputs": [],
   "source": [
    "mean_normal = ptbdb[ptbdb['label'] == 0].iloc[:, :-1].mean()\n",
    "std_normal = ptbdb[ptbdb['label'] == 0].iloc[:, :-1].std()\n",
    "\n",
    "mean_anormal = ptbdb[ptbdb['label'] == 1].iloc[:, :-1].mean()\n",
    "std_anormal = ptbdb[ptbdb['label'] == 1].iloc[:, :-1].std()\n",
    "\n",
    "plt.figure(figsize=(12, 6))\n",
    "plt.plot(mean_normal, label='Normal mean')\n",
    "plt.fill_between(range(len(mean_normal)), mean_normal - std_normal, mean_normal + std_normal, alpha=0.2)\n",
    "plt.title('Normal mean and standard deviation')\n",
    "plt.legend()\n",
    "plt.show()\n",
    "\n",
    "plt.figure(figsize=(12, 6))\n",
    "plt.plot(mean_anormal, label='Anormal mean')\n",
    "plt.fill_between(range(len(mean_anormal)), mean_anormal - std_anormal, mean_anormal + std_anormal, alpha=0.2)\n",
    "plt.title('Anormal mean and standard deviation')\n",
    "plt.legend()\n",
    "plt.show()"
   ]
  }
 ],
 "metadata": {
  "kernelspec": {
   "display_name": "Python 3",
   "language": "python",
   "name": "python3"
  },
  "language_info": {
   "codemirror_mode": {
    "name": "ipython",
    "version": 3
   },
   "file_extension": ".py",
   "mimetype": "text/x-python",
   "name": "python",
   "nbconvert_exporter": "python",
   "pygments_lexer": "ipython3",
   "version": "3.10.12"
  }
 },
 "nbformat": 4,
 "nbformat_minor": 2
}
