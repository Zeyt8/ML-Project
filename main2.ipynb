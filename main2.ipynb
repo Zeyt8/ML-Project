{
 "cells": [
  {
   "cell_type": "markdown",
   "metadata": {},
   "source": [
    "# Exploration"
   ]
  },
  {
   "cell_type": "code",
   "execution_count": null,
   "metadata": {},
   "outputs": [],
   "source": [
    "import pandas as pd\n",
    "import seaborn as sns\n",
    "import matplotlib.pyplot as plt"
   ]
  },
  {
   "cell_type": "code",
   "execution_count": null,
   "metadata": {},
   "outputs": [],
   "source": [
    "patients_data = pd.read_csv('data.csv', decimal=',')\n",
    "patients_data['Sedentary_hours_daily'] = patients_data['Sedentary_hours_daily'].astype(float)\n",
    "patients_data['Regular_fiber_diet'] = patients_data['Regular_fiber_diet'].astype(float)\n",
    "patients_data['Age'] = patients_data['Age'].astype(float)\n",
    "patients_data['Est_avg_calorie_intake'] = patients_data['Est_avg_calorie_intake'].astype(int)\n",
    "patients_data['Main_meals_daily'] = patients_data['Main_meals_daily'].astype(int)\n",
    "patients_data['Height'] = patients_data['Height'].astype(float)\n",
    "patients_data['Water_daily'] = patients_data['Water_daily'].astype(int)\n",
    "patients_data['Weight'] = patients_data['Weight'].astype(float)\n",
    "patients_data['Physical_activity_level'] = patients_data['Physical_activity_level'].astype(int)\n",
    "patients_data['Technology_time_use'] = patients_data['Technology_time_use'].astype(int)"
   ]
  },
  {
   "cell_type": "code",
   "execution_count": null,
   "metadata": {},
   "outputs": [],
   "source": [
    "plt.figure(figsize=(12, 6))\n",
    "sns.countplot(x='Diagnostic', data=patients_data)\n",
    "plt.title('Class distribution in train set patients')\n",
    "plt.show()"
   ]
  },
  {
   "cell_type": "code",
   "execution_count": null,
   "metadata": {},
   "outputs": [],
   "source": [
    "ptbdb_abnormal = pd.read_csv('ptbdb_abnormal.csv', header=None)\n",
    "ptbdb_normal = pd.read_csv('ptbdb_normal.csv', header=None)\n",
    "\n",
    "ptbdb_abnormal['label'] = 1\n",
    "ptbdb_normal['label'] = 0\n",
    "ptbdb = pd.concat([ptbdb_normal, ptbdb_abnormal], axis=0).reset_index(drop=True)"
   ]
  },
  {
   "cell_type": "code",
   "execution_count": null,
   "metadata": {},
   "outputs": [],
   "source": [
    "plt.figure(figsize=(12, 6))\n",
    "\n",
    "normal_example = ptbdb[ptbdb['label'] == 0].iloc[0, :-1]\n",
    "plt.plot(normal_example, label='Normal')\n",
    "plt.title('Normal series example')\n",
    "plt.legend()\n",
    "plt.show()\n",
    "\n",
    "anormal_example = ptbdb[ptbdb['label'] == 1].iloc[0, :-1]\n",
    "plt.plot(anormal_example, label='Anormal')\n",
    "plt.title('Anormal series example')\n",
    "plt.legend()\n",
    "plt.show()"
   ]
  },
  {
   "cell_type": "code",
   "execution_count": null,
   "metadata": {},
   "outputs": [],
   "source": [
    "mean_normal = ptbdb[ptbdb['label'] == 0].iloc[:, :-1].mean()\n",
    "std_normal = ptbdb[ptbdb['label'] == 0].iloc[:, :-1].std()\n",
    "\n",
    "mean_anormal = ptbdb[ptbdb['label'] == 1].iloc[:, :-1].mean()\n",
    "std_anormal = ptbdb[ptbdb['label'] == 1].iloc[:, :-1].std()\n",
    "\n",
    "plt.figure(figsize=(12, 6))\n",
    "plt.plot(mean_normal, label='Normal mean')\n",
    "plt.fill_between(range(len(mean_normal)), mean_normal - std_normal, mean_normal + std_normal, alpha=0.2)\n",
    "plt.title('Normal mean and standard deviation')\n",
    "plt.legend()\n",
    "plt.show()\n",
    "\n",
    "plt.figure(figsize=(12, 6))\n",
    "plt.plot(mean_anormal, label='Anormal mean')\n",
    "plt.fill_between(range(len(mean_anormal)), mean_anormal - std_anormal, mean_anormal + std_anormal, alpha=0.2)\n",
    "plt.title('Anormal mean and standard deviation')\n",
    "plt.legend()\n",
    "plt.show()"
   ]
  },
  {
   "cell_type": "markdown",
   "metadata": {},
   "source": [
    "# Train"
   ]
  },
  {
   "cell_type": "code",
   "execution_count": null,
   "metadata": {},
   "outputs": [],
   "source": [
    "from sklearn.preprocessing import LabelEncoder\n",
    "from sklearn.experimental import enable_iterative_imputer\n",
    "from sklearn.impute import IterativeImputer\n",
    "import numpy as np\n",
    "from scipy.stats import zscore\n",
    "from sklearn.preprocessing import StandardScaler\n",
    "from sklearn.model_selection import train_test_split"
   ]
  },
  {
   "cell_type": "code",
   "execution_count": null,
   "metadata": {},
   "outputs": [],
   "source": [
    "numeric_attributes = patients_data[['Sedentary_hours_daily', 'Regular_fiber_diet', 'Age', 'Est_avg_calorie_intake', 'Main_meals_daily',\\\n",
    "                      'Height', 'Water_daily', 'Weight', 'Physical_activity_level', 'Technology_time_use']]\n",
    "categorical_attributes = patients_data[['Transportation', 'Diagnostic_in_family_history',\\\n",
    "                          'High_calorie_diet', 'Alcohol', 'Snacks', 'Smoker', 'Calorie_monitoring', 'Gender']]\n",
    "\n",
    "# encode categorical attributes\n",
    "encoder = LabelEncoder()\n",
    "for column in categorical_attributes.columns:\n",
    "    patients_data[column] = encoder.fit_transform(patients_data[column])\n",
    "patients_data['Diagnostic'] = encoder.fit_transform(patients_data['Diagnostic'])\n",
    "\n",
    "# remove outliers\n",
    "z_scores = numeric_attributes.apply(zscore)\n",
    "numeric_attributes[z_scores.abs() > 3] = np.nan\n",
    "\n",
    "# treat missing values\n",
    "imputer = IterativeImputer(missing_values=-1, max_iter=10)\n",
    "patients_data['Weight'] = imputer.fit_transform(patients_data[['Weight']])\n",
    "for column in numeric_attributes:\n",
    "    patients_data[column] = imputer.fit_transform(patients_data[[column]])\n",
    "\n",
    "# standardize data\n",
    "scaler = StandardScaler()\n",
    "patients_data[numeric_attributes.columns] = scaler.fit_transform(patients_data[numeric_attributes.columns])\n",
    "\n",
    "X_patients_train, X_patients_test, Y_patients_train, Y_patients_test = train_test_split(patients_data.drop('Diagnostic', axis=1), patients_data['Diagnostic'], test_size=0.2, random_state=42)"
   ]
  },
  {
   "cell_type": "code",
   "execution_count": null,
   "metadata": {},
   "outputs": [],
   "source": [
    "X_ptbdb = ptbdb.iloc[:, :-1].values\n",
    "Y_ptbdb = ptbdb.iloc[:, -1].values.astype(int)\n",
    "X_ptbdb_train, X_ptbdb_test, Y_ptbdb_train, Y_ptbdb_test = train_test_split(X_ptbdb, Y_ptbdb, test_size=0.2, random_state=42)\n",
    "\n",
    "scaler = StandardScaler()\n",
    "X_ptbdb_train = scaler.fit_transform(X_ptbdb_train)\n",
    "X_ptbdb_test = scaler.transform(X_ptbdb_test)"
   ]
  },
  {
   "cell_type": "code",
   "execution_count": null,
   "metadata": {},
   "outputs": [],
   "source": [
    "import torch\n",
    "import torch.nn as nn\n",
    "import torch.optim as optim\n",
    "from torch.utils.data import DataLoader, TensorDataset\n",
    "\n",
    "class MLP(nn.Module):\n",
    "    def __init__(self, input_size):\n",
    "        super(MLP, self).__init__()\n",
    "        self.hidden1 = nn.Linear(input_size, 128)\n",
    "        self.hidden2 = nn.Linear(128, 64)\n",
    "        self.output = nn.Linear(64, 5)\n",
    "        self.relu = nn.ReLU()\n",
    "        self.dropout = nn.Dropout(0.2)\n",
    "\n",
    "    def forward(self, x):\n",
    "        x = self.relu(self.hidden1(x))\n",
    "        x = self.dropout(x)\n",
    "        x = self.relu(self.hidden2(x))\n",
    "        x = self.output(x)\n",
    "        return x\n",
    "    \n",
    "class CNN1D(nn.Module):\n",
    "    def __init__(self):\n",
    "        super(CNN1D, self).__init__()\n",
    "        self.conv1 = nn.Conv1d(in_channels=1, out_channels=32, kernel_size=5, padding=2)\n",
    "        self.conv2 = nn.Conv1d(in_channels=32, out_channels=64, kernel_size=5, padding=2)\n",
    "        self.conv3 = nn.Conv1d(in_channels=64, out_channels=128, kernel_size=5, padding=2)\n",
    "        self.relu = nn.ReLU()\n",
    "        self.pool = nn.AdaptiveAvgPool1d(1)\n",
    "        self.fc1 = nn.Linear(128, 64)\n",
    "        self.fc2 = nn.Linear(64, 2)\n",
    "        self.dropout = nn.Dropout(0.5)\n",
    "\n",
    "    def forward(self, x):\n",
    "        x = x.unsqueeze(1)\n",
    "        x = self.relu(self.conv1(x))\n",
    "        x = self.relu(self.conv2(x))\n",
    "        x = self.relu(self.conv3(x))\n",
    "        x = self.pool(x).squeeze(-1)\n",
    "        x = self.dropout(self.relu(self.fc1(x)))\n",
    "        x = self.fc2(x)\n",
    "        return x\n",
    "    \n",
    "def train(num_epochs, model, train_loader, criterion, optimizer):\n",
    "    for epoch in range(num_epochs):\n",
    "        model.train()\n",
    "        for X_batch, Y_batch in train_loader:\n",
    "            optimizer.zero_grad()\n",
    "            outputs = model(X_batch)\n",
    "            loss = criterion(outputs, Y_batch)\n",
    "            loss.backward()\n",
    "            optimizer.step()\n",
    "        print(f'Epoch {epoch+1}/{num_epochs}, Loss: {loss.item():.4f}')\n",
    "\n",
    "def eval(model, test_loader):\n",
    "    model.eval()\n",
    "    correct = 0\n",
    "    total = 0\n",
    "    with torch.no_grad():\n",
    "        for X_batch, Y_batch in test_loader:\n",
    "            outputs = model(X_batch)\n",
    "            _, predicted = torch.max(outputs.data, 1)\n",
    "            total += Y_batch.size(0)\n",
    "            correct += (predicted == Y_batch).sum().item()\n",
    "    print(f'Accuracy: {100 * correct / total:.2f}%')"
   ]
  },
  {
   "cell_type": "code",
   "execution_count": null,
   "metadata": {},
   "outputs": [],
   "source": [
    "X_train_tensor = torch.tensor(X_patients_train, dtype=torch.float32)\n",
    "Y_train_tensor = torch.tensor(Y_patients_train, dtype=torch.long)\n",
    "X_test_tensor = torch.tensor(X_patients_test, dtype=torch.float32)\n",
    "Y_test_tensor = torch.tensor(Y_patients_test, dtype=torch.long)\n",
    "\n",
    "train_dataset = TensorDataset(X_train_tensor, Y_train_tensor)\n",
    "test_dataset = TensorDataset(X_test_tensor, Y_test_tensor)\n",
    "\n",
    "train_loader = DataLoader(train_dataset, batch_size=64, shuffle=True)\n",
    "test_loader = DataLoader(test_dataset, batch_size=64, shuffle=False)\n",
    "\n",
    "model = MLP(input_size=X_patients_train.shape[1])\n",
    "criterion = nn.CrossEntropyLoss()\n",
    "optimizer = optim.Adam(model.parameters(), lr=0.001)\n",
    "\n",
    "train(10, model, train_loader, criterion, optimizer)\n",
    "eval(model, test_loader)"
   ]
  },
  {
   "cell_type": "code",
   "execution_count": null,
   "metadata": {},
   "outputs": [],
   "source": [
    "X_train_tensor = torch.tensor(X_ptbdb_train, dtype=torch.float32)\n",
    "Y_train_tensor = torch.tensor(Y_ptbdb_train, dtype=torch.long)\n",
    "X_test_tensor = torch.tensor(X_ptbdb_test, dtype=torch.float32)\n",
    "Y_test_tensor = torch.tensor(Y_ptbdb_test, dtype=torch.long)\n",
    "\n",
    "train_dataset = TensorDataset(X_train_tensor, Y_train_tensor)\n",
    "test_dataset = TensorDataset(X_test_tensor, Y_test_tensor)\n",
    "\n",
    "train_loader = DataLoader(train_dataset, batch_size=64, shuffle=True)\n",
    "test_loader = DataLoader(test_dataset, batch_size=64, shuffle=False)\n",
    "\n",
    "model = MLP(input_size=X_ptbdb_train.shape[1])\n",
    "criterion = nn.CrossEntropyLoss()\n",
    "optimizer = optim.Adam(model.parameters(), lr=0.001)\n",
    "\n",
    "train(10, model, train_loader, criterion, optimizer)\n",
    "eval(model, test_loader)"
   ]
  },
  {
   "cell_type": "code",
   "execution_count": null,
   "metadata": {},
   "outputs": [],
   "source": [
    "X_train_tensor = torch.tensor(X_ptbdb_train, dtype=torch.float32)\n",
    "Y_train_tensor = torch.tensor(Y_ptbdb_train, dtype=torch.long)\n",
    "X_test_tensor = torch.tensor(X_ptbdb_test, dtype=torch.float32)\n",
    "Y_test_tensor = torch.tensor(Y_ptbdb_test, dtype=torch.long)\n",
    "\n",
    "train_dataset = TensorDataset(X_train_tensor, Y_train_tensor)\n",
    "test_dataset = TensorDataset(X_test_tensor, Y_test_tensor)\n",
    "\n",
    "train_loader = DataLoader(train_dataset, batch_size=64, shuffle=True)\n",
    "test_loader = DataLoader(test_dataset, batch_size=64, shuffle=False)\n",
    "\n",
    "model = CNN1D()\n",
    "criterion = nn.CrossEntropyLoss()\n",
    "optimizer = optim.Adam(model.parameters(), lr=0.001)\n",
    "\n",
    "train(10, model, train_loader, criterion, optimizer)\n",
    "eval(model, test_loader)"
   ]
  }
 ],
 "metadata": {
  "kernelspec": {
   "display_name": "Python 3",
   "language": "python",
   "name": "python3"
  },
  "language_info": {
   "codemirror_mode": {
    "name": "ipython",
    "version": 3
   },
   "file_extension": ".py",
   "mimetype": "text/x-python",
   "name": "python",
   "nbconvert_exporter": "python",
   "pygments_lexer": "ipython3",
   "version": "3.10.12"
  }
 },
 "nbformat": 4,
 "nbformat_minor": 2
}
