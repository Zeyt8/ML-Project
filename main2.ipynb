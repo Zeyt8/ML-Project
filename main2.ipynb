{
 "cells": [
  {
   "cell_type": "markdown",
   "metadata": {},
   "source": [
    "# Exploration"
   ]
  },
  {
   "cell_type": "code",
   "execution_count": null,
   "metadata": {},
   "outputs": [],
   "source": [
    "import pandas as pd\n",
    "import seaborn as sns\n",
    "import matplotlib.pyplot as plt"
   ]
  },
  {
   "cell_type": "code",
   "execution_count": null,
   "metadata": {},
   "outputs": [],
   "source": [
    "mitbih_train = pd.read_csv('mitbih_train.csv', header=None)\n",
    "mitbih_test = pd.read_csv('mitbih_test.csv', header=None)"
   ]
  },
  {
   "cell_type": "code",
   "execution_count": null,
   "metadata": {},
   "outputs": [],
   "source": [
    "mitbih_train.columns = [f\"feature_{i}\" for i in range(mitbih_train.shape[1] - 1)] + ['label']\n",
    "mitbih_test.columns = [f\"feature_{i}\" for i in range(mitbih_test.shape[1] - 1)] + ['label']"
   ]
  },
  {
   "cell_type": "code",
   "execution_count": null,
   "metadata": {},
   "outputs": [],
   "source": [
    "plt.figure(figsize=(12, 6))\n",
    "sns.countplot(x='label', data=mitbih_train)\n",
    "plt.title('Class distribution in train set (MITBIH)')\n",
    "plt.show()\n",
    "\n",
    "plt.figure(figsize=(12, 6))\n",
    "sns.countplot(x='label', data=mitbih_test)\n",
    "plt.title('Class distribution in test set (MITBIH)')\n",
    "plt.show()"
   ]
  },
  {
   "cell_type": "code",
   "execution_count": null,
   "metadata": {},
   "outputs": [],
   "source": [
    "ptbdb_abnormal = pd.read_csv('ptbdb_abnormal.csv', header=None)\n",
    "ptbdb_normal = pd.read_csv('ptbdb_normal.csv', header=None)"
   ]
  },
  {
   "cell_type": "code",
   "execution_count": null,
   "metadata": {},
   "outputs": [],
   "source": [
    "ptbdb_abnormal['label'] = 1\n",
    "ptbdb_normal['label'] = 0\n",
    "ptbdb = pd.concat([ptbdb_normal, ptbdb_abnormal], axis=0).reset_index(drop=True)"
   ]
  },
  {
   "cell_type": "code",
   "execution_count": null,
   "metadata": {},
   "outputs": [],
   "source": [
    "plt.figure(figsize=(12, 6))\n",
    "\n",
    "normal_example = ptbdb[ptbdb['label'] == 0].iloc[0, :-1]\n",
    "plt.plot(normal_example, label='Normal')\n",
    "plt.title('Normal series example')\n",
    "plt.legend()\n",
    "plt.show()\n",
    "\n",
    "anormal_example = ptbdb[ptbdb['label'] == 1].iloc[0, :-1]\n",
    "plt.plot(anormal_example, label='Anormal')\n",
    "plt.title('Anormal series example')\n",
    "plt.legend()\n",
    "plt.show()"
   ]
  },
  {
   "cell_type": "code",
   "execution_count": null,
   "metadata": {},
   "outputs": [],
   "source": [
    "mean_normal = ptbdb[ptbdb['label'] == 0].iloc[:, :-1].mean()\n",
    "std_normal = ptbdb[ptbdb['label'] == 0].iloc[:, :-1].std()\n",
    "\n",
    "mean_anormal = ptbdb[ptbdb['label'] == 1].iloc[:, :-1].mean()\n",
    "std_anormal = ptbdb[ptbdb['label'] == 1].iloc[:, :-1].std()\n",
    "\n",
    "plt.figure(figsize=(12, 6))\n",
    "plt.plot(mean_normal, label='Normal mean')\n",
    "plt.fill_between(range(len(mean_normal)), mean_normal - std_normal, mean_normal + std_normal, alpha=0.2)\n",
    "plt.title('Normal mean and standard deviation')\n",
    "plt.legend()\n",
    "plt.show()\n",
    "\n",
    "plt.figure(figsize=(12, 6))\n",
    "plt.plot(mean_anormal, label='Anormal mean')\n",
    "plt.fill_between(range(len(mean_anormal)), mean_anormal - std_anormal, mean_anormal + std_anormal, alpha=0.2)\n",
    "plt.title('Anormal mean and standard deviation')\n",
    "plt.legend()\n",
    "plt.show()"
   ]
  },
  {
   "cell_type": "markdown",
   "metadata": {},
   "source": [
    "# Train"
   ]
  },
  {
   "cell_type": "code",
   "execution_count": null,
   "metadata": {},
   "outputs": [],
   "source": [
    "X_mitbih_train = mitbih_train.iloc[:, :-1].values\n",
    "Y_mitbih_train = mitbih_train.iloc[:, -1].values.astype(int)\n",
    "X_mitbih_test = mitbih_test.iloc[:, :-1].values\n",
    "Y_mitbih_test = mitbih_test.iloc[:, -1].values.astype(int)\n",
    "\n",
    "X_ptbdb = ptbdb.iloc[:, :-1].values\n",
    "Y_ptbdb = ptbdb.iloc[:, -1].values"
   ]
  },
  {
   "cell_type": "code",
   "execution_count": null,
   "metadata": {},
   "outputs": [],
   "source": [
    "from sklearn.model_selection import train_test_split\n",
    "\n",
    "X_ptbdb_train, X_ptbdb_test, Y_ptbdb_train, Y_ptbdb_test = train_test_split(X_ptbdb, Y_ptbdb, test_size=0.2, random_state=42)"
   ]
  },
  {
   "cell_type": "code",
   "execution_count": null,
   "metadata": {},
   "outputs": [],
   "source": [
    "from sklearn.preprocessing import StandardScaler\n",
    "\n",
    "scaler = StandardScaler()\n",
    "X_mitbih_train = scaler.fit_transform(X_mitbih_train)\n",
    "X_mitbih_test = scaler.transform(X_mitbih_test)\n",
    "X_ptbdb_train = scaler.fit_transform(X_ptbdb_train)\n",
    "X_ptbdb_test = scaler.transform(X_ptbdb_test)"
   ]
  },
  {
   "cell_type": "code",
   "execution_count": null,
   "metadata": {},
   "outputs": [],
   "source": [
    "import torch\n",
    "import torch.nn as nn\n",
    "import torch.optim as optim\n",
    "from torch.utils.data import DataLoader, TensorDataset\n",
    "\n",
    "class MLP(nn.Module):\n",
    "    def __init__(self, input_size):\n",
    "        super(MLP, self).__init__()\n",
    "        self.hidden1 = nn.Linear(input_size, 128)\n",
    "        self.hidden2 = nn.Linear(128, 64)\n",
    "        self.output = nn.Linear(64, 5)\n",
    "        self.relu = nn.ReLU()\n",
    "        self.dropout = nn.Dropout(0.2)\n",
    "\n",
    "    def forward(self, x):\n",
    "        x = self.relu(self.hidden1(x))\n",
    "        x = self.dropout(x)\n",
    "        x = self.relu(self.hidden2(x))\n",
    "        x = self.output(x)\n",
    "        return x\n",
    "    \n",
    "def train(num_epochs, model, train_loader, criterion, optimizer):\n",
    "    for epoch in range(num_epochs):\n",
    "        model.train()\n",
    "        for X_batch, Y_batch in train_loader:\n",
    "            optimizer.zero_grad()\n",
    "            outputs = model(X_batch)\n",
    "            loss = criterion(outputs, Y_batch)\n",
    "            loss.backward()\n",
    "            optimizer.step()\n",
    "        print(f'Epoch {epoch+1}/{num_epochs}, Loss: {loss.item():.4f}')\n",
    "\n",
    "def eval(model, test_loader):\n",
    "    model.eval()\n",
    "    correct = 0\n",
    "    total = 0\n",
    "    with torch.no_grad():\n",
    "        for X_batch, Y_batch in test_loader:\n",
    "            outputs = model(X_batch)\n",
    "            _, predicted = torch.max(outputs.data, 1)\n",
    "            total += Y_batch.size(0)\n",
    "            correct += (predicted == Y_batch).sum().item()\n",
    "    print(f'Accuracy: {100 * correct / total:.2f}%')"
   ]
  },
  {
   "cell_type": "code",
   "execution_count": null,
   "metadata": {},
   "outputs": [],
   "source": [
    "X_train_tensor = torch.tensor(X_mitbih_train, dtype=torch.float32)\n",
    "Y_train_tensor = torch.tensor(Y_mitbih_train, dtype=torch.long)\n",
    "X_test_tensor = torch.tensor(X_mitbih_test, dtype=torch.float32)\n",
    "Y_test_tensor = torch.tensor(Y_mitbih_test, dtype=torch.long)\n",
    "\n",
    "train_dataset = TensorDataset(X_train_tensor, Y_train_tensor)\n",
    "test_dataset = TensorDataset(X_test_tensor, Y_test_tensor)\n",
    "\n",
    "train_loader = DataLoader(train_dataset, batch_size=64, shuffle=True)\n",
    "test_loader = DataLoader(test_dataset, batch_size=64, shuffle=False)\n",
    "\n",
    "model = MLP(input_size=X_mitbih_train.shape[1])\n",
    "criterion = nn.CrossEntropyLoss()\n",
    "optimizer = optim.Adam(model.parameters(), lr=0.001)\n",
    "\n",
    "train(10, model, train_loader, criterion, optimizer)\n",
    "eval(model, test_loader)"
   ]
  },
  {
   "cell_type": "code",
   "execution_count": null,
   "metadata": {},
   "outputs": [],
   "source": [
    "X_train_tensor = torch.tensor(X_ptbdb_train, dtype=torch.float32)\n",
    "y_train_tensor = torch.tensor(Y_ptbdb_train, dtype=torch.long)\n",
    "X_test_tensor = torch.tensor(X_ptbdb_test, dtype=torch.float32)\n",
    "y_test_tensor = torch.tensor(Y_ptbdb_test, dtype=torch.long)\n",
    "\n",
    "train_dataset = TensorDataset(X_train_tensor, y_train_tensor)\n",
    "test_dataset = TensorDataset(X_test_tensor, y_test_tensor)\n",
    "\n",
    "train_loader = DataLoader(train_dataset, batch_size=64, shuffle=True)\n",
    "test_loader = DataLoader(test_dataset, batch_size=64, shuffle=False)\n",
    "\n",
    "model = MLP(input_size=X_ptbdb_train.shape[1])\n",
    "criterion = nn.CrossEntropyLoss()\n",
    "optimizer = optim.Adam(model.parameters(), lr=0.001)\n",
    "\n",
    "train(10, model, train_loader, criterion, optimizer)\n",
    "eval(model, test_loader)"
   ]
  }
 ],
 "metadata": {
  "kernelspec": {
   "display_name": "Python 3",
   "language": "python",
   "name": "python3"
  },
  "language_info": {
   "codemirror_mode": {
    "name": "ipython",
    "version": 3
   },
   "file_extension": ".py",
   "mimetype": "text/x-python",
   "name": "python",
   "nbconvert_exporter": "python",
   "pygments_lexer": "ipython3",
   "version": "3.10.12"
  }
 },
 "nbformat": 4,
 "nbformat_minor": 2
}
