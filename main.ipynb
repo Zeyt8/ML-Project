{
 "cells": [
  {
   "cell_type": "code",
   "execution_count": null,
   "metadata": {},
   "outputs": [],
   "source": [
    "# imports\n",
    "\n",
    "import pandas as pd\n",
    "import seaborn as sns\n",
    "import matplotlib.pyplot as plt\n",
    "\n",
    "import numpy as np"
   ]
  },
  {
   "cell_type": "code",
   "execution_count": null,
   "metadata": {},
   "outputs": [],
   "source": [
    "data = pd.read_csv('data.csv')\n",
    "numeric_attributes = data.select_dtypes(include=['float64', 'int64'])"
   ]
  },
  {
   "cell_type": "code",
   "execution_count": null,
   "metadata": {},
   "outputs": [],
   "source": [
    "# Class equilibrium\n",
    "\n",
    "plt.figure(figsize=(6, 4))\n",
    "sns.countplot(x='Diagnostic', data=data)\n",
    "plt.title('Class Frequency in the Dataset')\n",
    "plt.xlabel('Diagnosis')\n",
    "plt.ylabel('Frequency')\n",
    "plt.show()"
   ]
  },
  {
   "cell_type": "code",
   "execution_count": null,
   "metadata": {},
   "outputs": [],
   "source": [
    "# Numerical Attributes\n",
    "\n",
    "mad = lambda x: np.mean(np.abs(x - np.mean(x)))\n",
    "mead = lambda x: np.median(np.abs(x - np.median(x)))\n",
    "\n",
    "for column in numeric_attributes.columns:\n",
    "    print(\"Statistics for column\", column)\n",
    "    print(\"Mean:\", numeric_attributes[column].mean())\n",
    "    print(\"Std Deviation:\", numeric_attributes[column].std())\n",
    "    print(\"Mean Abs Deviation:\", mad(numeric_attributes[column]))\n",
    "    print(\"Min Val:\", numeric_attributes[column].min())\n",
    "    print(\"Max Val:\", numeric_attributes[column].max())\n",
    "    print(\"Amplitude:\", numeric_attributes[column].max() - numeric_attributes[column].min())\n",
    "    print(\"Median:\", numeric_attributes[column].median())\n",
    "    print(\"Median Abs Deviation:\", mead(numeric_attributes[column]))\n",
    "    q1 = numeric_attributes[column].quantile(0.25)\n",
    "    q3 = numeric_attributes[column].quantile(0.75)\n",
    "    print(\"Interquantil Interval:\", q3 - q1)\n",
    "    print()\n",
    "\n",
    "plt.figure(figsize=(8, 6))\n",
    "numeric_attributes.hist(bins=20, figsize=(12, 6))\n",
    "plt.suptitle('Numerical Attributes Histogram', fontsize=16)\n",
    "plt.show()"
   ]
  },
  {
   "cell_type": "code",
   "execution_count": null,
   "metadata": {},
   "outputs": [],
   "source": [
    "# Covariance Matrix\n",
    "\n",
    "covariance_matrix = numeric_attributes.corr()\n",
    "plt.figure(figsize=(6, 4))\n",
    "sns.heatmap(covariance_matrix, annot=True, cmap='coolwarm')\n",
    "plt.title('Covariance Matrix')\n",
    "plt.show()\n",
    "\n",
    "plt.figure(figsize=(10, 8))\n",
    "sns.pairplot(data, hue='Diagnostic', diag_kind='kde')\n",
    "plt.title('Pair Diagram and Class Distribution')\n",
    "plt.show()"
   ]
  }
 ],
 "metadata": {
  "kernelspec": {
   "display_name": "Python 3",
   "language": "python",
   "name": "python3"
  },
  "language_info": {
   "codemirror_mode": {
    "name": "ipython",
    "version": 3
   },
   "file_extension": ".py",
   "mimetype": "text/x-python",
   "name": "python",
   "nbconvert_exporter": "python",
   "pygments_lexer": "ipython3",
   "version": "3.10.12"
  }
 },
 "nbformat": 4,
 "nbformat_minor": 2
}
