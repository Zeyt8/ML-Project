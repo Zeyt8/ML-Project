{
 "cells": [
  {
   "cell_type": "markdown",
   "metadata": {},
   "source": [
    "# Data Exploration"
   ]
  },
  {
   "cell_type": "code",
   "execution_count": null,
   "metadata": {},
   "outputs": [],
   "source": [
    "import pandas as pd\n",
    "import seaborn as sns\n",
    "import matplotlib.pyplot as plt\n",
    "import numpy as np"
   ]
  },
  {
   "cell_type": "code",
   "execution_count": null,
   "metadata": {},
   "outputs": [],
   "source": [
    "data = pd.read_csv('data.csv', decimal=',')\n",
    "data['Sedentary_hours_daily'] = data['Sedentary_hours_daily'].astype(float)\n",
    "data['Regular_fiber_diet'] = data['Regular_fiber_diet'].astype(float)\n",
    "data['Age'] = data['Age'].astype(float)\n",
    "data['Est_avg_calorie_intake'] = data['Est_avg_calorie_intake'].astype(int)\n",
    "data['Main_meals_daily'] = data['Main_meals_daily'].astype(int)\n",
    "data['Height'] = data['Height'].astype(float)\n",
    "data['Water_daily'] = data['Water_daily'].astype(int)\n",
    "data['Weight'] = data['Weight'].astype(float)\n",
    "data['Physical_activity_level'] = data['Physical_activity_level'].astype(int)\n",
    "data['Technology_time_use'] = data['Technology_time_use'].astype(int)\n",
    "numeric_attributes = data[['Sedentary_hours_daily', 'Regular_fiber_diet', 'Age', 'Est_avg_calorie_intake', 'Main_meals_daily',\\\n",
    "                      'Height', 'Water_daily', 'Weight', 'Physical_activity_level', 'Technology_time_use']]\n",
    "categorical_attributes = data[['Transportation', 'Diagnostic_in_family_history',\\\n",
    "                          'High_calorie_diet', 'Alcohol', 'Snacks', 'Smoker', 'Calorie_monitoring', 'Gender']]"
   ]
  },
  {
   "cell_type": "code",
   "execution_count": null,
   "metadata": {},
   "outputs": [],
   "source": [
    "# Class equilibrium\n",
    "plt.figure(figsize=(6, 4))\n",
    "sns.countplot(x='Diagnostic', data=data)\n",
    "plt.title('Class Frequency in the Dataset')\n",
    "plt.xlabel('Diagnosis')\n",
    "plt.ylabel('Frequency')\n",
    "plt.show()"
   ]
  },
  {
   "cell_type": "code",
   "execution_count": null,
   "metadata": {},
   "outputs": [],
   "source": [
    "# Numerical Attributes\n",
    "mad = lambda x: np.mean(np.abs(x - np.mean(x)))\n",
    "mead = lambda x: np.median(np.abs(x - np.median(x)))\n",
    "\n",
    "for column in numeric_attributes.columns:\n",
    "    print(\"Statistics for column\", column)\n",
    "    print(\"Mean:\", numeric_attributes[column].mean())\n",
    "    print(\"Std Deviation:\", numeric_attributes[column].std())\n",
    "    print(\"Mean Abs Deviation:\", mad(numeric_attributes[column]))\n",
    "    print(\"Min Val:\", numeric_attributes[column].min())\n",
    "    print(\"Max Val:\", numeric_attributes[column].max())\n",
    "    print(\"Amplitude:\", numeric_attributes[column].max() - numeric_attributes[column].min())\n",
    "    print(\"Median:\", numeric_attributes[column].median())\n",
    "    print(\"Median Abs Deviation:\", mead(numeric_attributes[column]))\n",
    "    q1 = numeric_attributes[column].quantile(0.25)\n",
    "    q3 = numeric_attributes[column].quantile(0.75)\n",
    "    print(\"Interquantil Interval:\", q3 - q1)\n",
    "    print()\n",
    "\n",
    "plt.figure(figsize=(8, 6))\n",
    "numeric_attributes.hist(figsize=(12, 10))\n",
    "plt.suptitle('Numerical Attributes Histogram', fontsize=16)\n",
    "plt.show()\n",
    "\n",
    "for column in categorical_attributes.columns:\n",
    "    print(\"Statistics for column\", column)\n",
    "    print(\"Unique values:\", categorical_attributes[column].unique())\n",
    "    print()\n",
    "\n",
    "plt.figure(figsize=(12, 10))\n",
    "for i, column in enumerate(categorical_attributes.columns, 1):\n",
    "    plt.subplot(3, 3, i)\n",
    "    sns.countplot(x=column, data=data)\n",
    "    for tick in plt.gca().get_xticklabels():\n",
    "        tick.set_rotation(45)\n",
    "    plt.title(column)\n",
    "    plt.xlabel(\"\")\n",
    "    plt.ylabel(\"Count\")\n",
    "\n",
    "plt.tight_layout()\n",
    "plt.show()"
   ]
  },
  {
   "cell_type": "code",
   "execution_count": null,
   "metadata": {},
   "outputs": [],
   "source": [
    "from sklearn.preprocessing import LabelEncoder\n",
    "\n",
    "# encode categorical attributes\n",
    "encoder = LabelEncoder()\n",
    "for column in categorical_attributes.columns:\n",
    "    data[column] = encoder.fit_transform(data[column])\n",
    "data['Diagnostic'] = encoder.fit_transform(data['Diagnostic'])"
   ]
  },
  {
   "cell_type": "code",
   "execution_count": null,
   "metadata": {},
   "outputs": [],
   "source": [
    "# Covariance Matrix\n",
    "covariance_matrix = data.corr()\n",
    "mask = np.triu(np.ones_like(covariance_matrix, dtype=bool))\n",
    "covariance_matrix = covariance_matrix.mask(mask)\n",
    "plt.figure(figsize=(10, 8))\n",
    "sns.heatmap(covariance_matrix, annot=True, cmap='coolwarm', fmt='.2f')\n",
    "plt.title('Covariance Matrix')\n",
    "plt.show()\n",
    "\n",
    "class_cov = data.corrwith(data['Diagnostic'])\n",
    "plt.figure(figsize=(10, 8))\n",
    "class_cov.plot(kind='bar')\n",
    "plt.title('Covariance Matrix by Class')\n",
    "plt.xlabel('Attribute')\n",
    "plt.ylabel('Covariance')\n",
    "plt.show()"
   ]
  },
  {
   "cell_type": "markdown",
   "metadata": {},
   "source": [
    "# Learning"
   ]
  },
  {
   "cell_type": "code",
   "execution_count": null,
   "metadata": {},
   "outputs": [],
   "source": [
    "from sklearn.model_selection import GridSearchCV\n",
    "from sklearn.ensemble import RandomForestClassifier, ExtraTreesClassifier\n",
    "import xgboost as xgb\n",
    "from sklearn.svm import SVC\n",
    "from sklearn.experimental import enable_iterative_imputer\n",
    "from sklearn.impute import IterativeImputer\n",
    "from sklearn.feature_selection import SelectPercentile\n",
    "from sklearn.preprocessing import StandardScaler\n",
    "from sklearn.model_selection import train_test_split\n",
    "from sklearn.metrics import accuracy_score, precision_score, recall_score, f1_score, confusion_matrix\n",
    "from scipy.stats import zscore\n",
    "from sklearn.base import clone"
   ]
  },
  {
   "cell_type": "code",
   "execution_count": null,
   "metadata": {},
   "outputs": [],
   "source": [
    "# remove outliers\n",
    "z_scores = numeric_attributes.apply(zscore)\n",
    "numeric_attributes[z_scores.abs() > 3] = np.nan"
   ]
  },
  {
   "cell_type": "code",
   "execution_count": null,
   "metadata": {},
   "outputs": [],
   "source": [
    "# treat missing values\n",
    "imputer = IterativeImputer(missing_values=-1, max_iter=10)\n",
    "data['Weight'] = imputer.fit_transform(data[['Weight']])\n",
    "for column in numeric_attributes:\n",
    "    data[column] = imputer.fit_transform(data[[column]])"
   ]
  },
  {
   "cell_type": "code",
   "execution_count": null,
   "metadata": {},
   "outputs": [],
   "source": [
    "# feature selection\n",
    "\n",
    "print(\"Initial features:\")\n",
    "print(data.columns)\n",
    "selector = SelectPercentile(percentile=80)\n",
    "selector.fit(data.drop(columns=['Diagnostic']), data['Diagnostic'])\n",
    "selected_indices = selector.get_support(indices=True)\n",
    "X_selected = data.iloc[:, selected_indices]\n",
    "print(\"Features after selection:\")\n",
    "selector.get_feature_names_out()"
   ]
  },
  {
   "cell_type": "code",
   "execution_count": null,
   "metadata": {},
   "outputs": [],
   "source": [
    "# standardize data\n",
    "\n",
    "scaler = StandardScaler()\n",
    "data[numeric_attributes.columns] = scaler.fit_transform(data[numeric_attributes.columns])"
   ]
  },
  {
   "cell_type": "code",
   "execution_count": null,
   "metadata": {},
   "outputs": [],
   "source": [
    "X_train, X_test, Y_train, Y_test = train_test_split(X_selected, data['Diagnostic'], test_size=0.2, random_state=42)"
   ]
  },
  {
   "cell_type": "code",
   "execution_count": null,
   "metadata": {},
   "outputs": [],
   "source": [
    "# hyperparameters\n",
    "\n",
    "param_grid_rf = {'n_estimators': [100, 200, 300],\n",
    "                 'max_depth': [None, 10, 20],\n",
    "                 'max_features': ['sqrt', 'log2']}\n",
    "param_grid_et = {'n_estimators': [100, 200, 300],\n",
    "                 'max_depth': [None, 10, 20],\n",
    "                 'max_features': ['sqrt', 'log2']}\n",
    "param_grid_gb = {'n_estimators': [100, 200, 300],\n",
    "                 'max_depth': [3, 5, 7],\n",
    "                 'learning_rate': [0.1, 0.05, 0.01]}\n",
    "param_grid_svm = {'kernel': ['linear', 'poly', 'rbf'],\n",
    "                  'C': [0.1, 1, 10]}"
   ]
  },
  {
   "cell_type": "code",
   "execution_count": null,
   "metadata": {},
   "outputs": [],
   "source": [
    "models = {'RandomForestClassifier': (RandomForestClassifier(), param_grid_rf),\n",
    "          'ExtraTreesClassifier': (ExtraTreesClassifier(), param_grid_et),\n",
    "          'XGBClassifier': (xgb.XGBClassifier(), param_grid_gb),\n",
    "          'SVC': (SVC(), param_grid_svm)}\n",
    "\n",
    "results_dict = {}\n",
    "\n",
    "for model_name, (model, param_grid) in models.items():\n",
    "    grid_search = GridSearchCV(model, param_grid, cv=5)\n",
    "    grid_search.fit(X_train, Y_train)\n",
    "    \n",
    "    best_model = grid_search.best_estimator_\n",
    "    predictions = best_model.predict(X_test)\n",
    "    \n",
    "    accuracy = accuracy_score(Y_test, predictions)\n",
    "    precision = precision_score(Y_test, predictions, average=None)\n",
    "    recall = recall_score(Y_test, predictions, average=None)\n",
    "    f1 = f1_score(Y_test, predictions, average=None)\n",
    "    cm = confusion_matrix(Y_test, predictions)\n",
    "    \n",
    "    results_dict[model_name] = {\n",
    "        'best_params': grid_search.best_params_,\n",
    "        'accuracy_mean': accuracy.mean(),\n",
    "        'accuracy_var': accuracy.var(),\n",
    "        'precision_mean': precision.mean(),\n",
    "        'precision_var': precision.var(),\n",
    "        'recall_mean': recall.mean(),\n",
    "        'recall_var': recall.var(),\n",
    "        'f1_mean': f1.mean(),\n",
    "        'f1_var': f1.var(),\n",
    "        'confusion_matrix': cm\n",
    "    }\n"
   ]
  },
  {
   "cell_type": "code",
   "execution_count": null,
   "metadata": {},
   "outputs": [],
   "source": [
    "from IPython.display import display\n",
    "\n",
    "results_df = pd.DataFrame(results_dict).T\n",
    "\n",
    "results_df = results_df.drop(columns='best_params')\n",
    "\n",
    "for col in results_df.columns:\n",
    "    if 'mean' in col or 'var' in col:\n",
    "        max_value = results_df[col].max()\n",
    "        results_df[col] = results_df[col].apply(lambda x: f\"**{x:.2f}**\" if x == max_value else f\"{x:.2f}\")\n",
    "\n",
    "display(results_df)\n",
    "\n",
    "for model_name, best_params in results_dict.items():\n",
    "    if isinstance(best_params, dict):\n",
    "        print(f\"\\nBest Parameters for {model_name}:\")\n",
    "        print(best_params)\n",
    "\n",
    "for model_name, cm in results_df['confusion_matrix'].items():\n",
    "    plt.figure(figsize=(8, 6))\n",
    "    sns.heatmap(cm, annot=True, fmt='d', cmap='Blues')\n",
    "    plt.title(f'Confusion Matrix for {model_name}')\n",
    "    plt.xlabel('Predicted Label')\n",
    "    plt.ylabel('True Label')"
   ]
  }
 ],
 "metadata": {
  "kernelspec": {
   "display_name": "Python 3",
   "language": "python",
   "name": "python3"
  },
  "language_info": {
   "codemirror_mode": {
    "name": "ipython",
    "version": 3
   },
   "file_extension": ".py",
   "mimetype": "text/x-python",
   "name": "python",
   "nbconvert_exporter": "python",
   "pygments_lexer": "ipython3",
   "version": "3.10.12"
  }
 },
 "nbformat": 4,
 "nbformat_minor": 2
}
