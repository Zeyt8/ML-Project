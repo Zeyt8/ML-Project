{
 "cells": [
  {
   "cell_type": "markdown",
   "metadata": {},
   "source": [
    "# Data Exploration"
   ]
  },
  {
   "cell_type": "code",
   "execution_count": null,
   "metadata": {},
   "outputs": [],
   "source": [
    "import pandas as pd\n",
    "import seaborn as sns\n",
    "import matplotlib.pyplot as plt\n",
    "import numpy as np"
   ]
  },
  {
   "cell_type": "code",
   "execution_count": null,
   "metadata": {},
   "outputs": [],
   "source": [
    "data = pd.read_csv('data.csv', decimal=',')\n",
    "data['Sedentary_hours_daily'] = data['Sedentary_hours_daily'].astype(float)\n",
    "data['Regular_fiber_diet'] = data['Regular_fiber_diet'].astype(float)\n",
    "data['Age'] = data['Age'].astype(float)\n",
    "data['Est_avg_calorie_intake'] = data['Est_avg_calorie_intake'].astype(int)\n",
    "data['Main_meals_daily'] = data['Main_meals_daily'].astype(int)\n",
    "data['Height'] = data['Height'].astype(float)\n",
    "data['Water_daily'] = data['Water_daily'].astype(int)\n",
    "data['Weight'] = data['Weight'].astype(float)\n",
    "data['Physical_activity_level'] = data['Physical_activity_level'].astype(int)\n",
    "data['Technology_time_use'] = data['Technology_time_use'].astype(int)\n",
    "numeric_attributes = data[['Sedentary_hours_daily', 'Regular_fiber_diet', 'Age', 'Est_avg_calorie_intake', 'Main_meals_daily',\\\n",
    "                      'Height', 'Water_daily', 'Weight', 'Physical_activity_level', 'Technology_time_use']]\n",
    "categorical_attributes = data[['Transportation', 'Diagnostic_in_family_history',\\\n",
    "                          'High_calorie_diet', 'Alcohol', 'Snacks', 'Smoker', 'Calorie_monitoring', 'Gender']]"
   ]
  },
  {
   "cell_type": "code",
   "execution_count": null,
   "metadata": {},
   "outputs": [],
   "source": [
    "# Class equilibrium\n",
    "plt.figure(figsize=(6, 4))\n",
    "sns.countplot(x='Diagnostic', data=data)\n",
    "plt.title('Class Frequency in the Dataset')\n",
    "plt.xlabel('Diagnosis')\n",
    "plt.ylabel('Frequency')\n",
    "plt.show()"
   ]
  },
  {
   "cell_type": "code",
   "execution_count": null,
   "metadata": {},
   "outputs": [],
   "source": [
    "# Numerical Attributes\n",
    "mad = lambda x: np.mean(np.abs(x - np.mean(x)))\n",
    "mead = lambda x: np.median(np.abs(x - np.median(x)))\n",
    "\n",
    "for column in numeric_attributes.columns:\n",
    "    print(\"Statistics for column\", column)\n",
    "    print(\"Mean:\", numeric_attributes[column].mean())\n",
    "    print(\"Std Deviation:\", numeric_attributes[column].std())\n",
    "    print(\"Mean Abs Deviation:\", mad(numeric_attributes[column]))\n",
    "    print(\"Min Val:\", numeric_attributes[column].min())\n",
    "    print(\"Max Val:\", numeric_attributes[column].max())\n",
    "    print(\"Amplitude:\", numeric_attributes[column].max() - numeric_attributes[column].min())\n",
    "    print(\"Median:\", numeric_attributes[column].median())\n",
    "    print(\"Median Abs Deviation:\", mead(numeric_attributes[column]))\n",
    "    q1 = numeric_attributes[column].quantile(0.25)\n",
    "    q3 = numeric_attributes[column].quantile(0.75)\n",
    "    print(\"Interquantil Interval:\", q3 - q1)\n",
    "    print()\n",
    "\n",
    "plt.figure(figsize=(8, 6))\n",
    "numeric_attributes.hist(figsize=(12, 10))\n",
    "plt.suptitle('Numerical Attributes Histogram', fontsize=16)\n",
    "plt.show()\n",
    "\n",
    "for column in categorical_attributes.columns:\n",
    "    print(\"Statistics for column\", column)\n",
    "    print(\"Unique values:\", categorical_attributes[column].unique())\n",
    "    print()\n",
    "\n",
    "plt.figure(figsize=(12, 10))\n",
    "for i, column in enumerate(categorical_attributes.columns, 1):\n",
    "    plt.subplot(3, 3, i)\n",
    "    sns.countplot(x=column, data=data)\n",
    "    for tick in plt.gca().get_xticklabels():\n",
    "        tick.set_rotation(45)\n",
    "    plt.title(column)\n",
    "    plt.xlabel(\"\")\n",
    "    plt.ylabel(\"Count\")\n",
    "\n",
    "plt.tight_layout()\n",
    "plt.show()"
   ]
  },
  {
   "cell_type": "code",
   "execution_count": null,
   "metadata": {},
   "outputs": [],
   "source": [
    "# Covariance Matrix\n",
    "covariance_matrix = numeric_attributes.corr()\n",
    "plt.figure(figsize=(10, 8))\n",
    "sns.heatmap(covariance_matrix, annot=True, cmap='coolwarm')\n",
    "plt.title('Covariance Matrix')\n",
    "plt.show()\n",
    "\n",
    "plt.figure(figsize=(10, 8))\n",
    "sns.pairplot(data, hue='Diagnostic', diag_kind='kde')\n",
    "plt.title('Pair Diagram and Class Distribution')\n",
    "plt.show()"
   ]
  },
  {
   "cell_type": "markdown",
   "metadata": {},
   "source": [
    "# Learning"
   ]
  },
  {
   "cell_type": "code",
   "execution_count": null,
   "metadata": {},
   "outputs": [],
   "source": [
    "from sklearn.model_selection import GridSearchCV\n",
    "from sklearn.ensemble import RandomForestClassifier, ExtraTreesClassifier\n",
    "import xgboost as xgb\n",
    "from sklearn.svm import SVC\n",
    "from sklearn.experimental import enable_iterative_imputer\n",
    "from sklearn.impute import SimpleImputer, IterativeImputer\n",
    "from sklearn.feature_selection import VarianceThreshold, SelectPercentile\n",
    "from sklearn.preprocessing import StandardScaler\n",
    "from sklearn.preprocessing import LabelEncoder\n",
    "from sklearn.model_selection import train_test_split\n",
    "from sklearn.metrics import accuracy_score, precision_score, recall_score, f1_score, confusion_matrix, ConfusionMatrixDisplay\n",
    "from scipy.stats import zscore"
   ]
  },
  {
   "cell_type": "code",
   "execution_count": null,
   "metadata": {},
   "outputs": [],
   "source": [
    "# remove outliers\n",
    "z_scores = numeric_attributes.apply(zscore)\n",
    "numeric_attributes[z_scores.abs() > 3] = np.nan"
   ]
  },
  {
   "cell_type": "code",
   "execution_count": null,
   "metadata": {},
   "outputs": [],
   "source": [
    "# treat missing values\n",
    "imputer = IterativeImputer(missing_values=-1, max_iter=10)\n",
    "data['Weight'] = imputer.fit_transform(data[['Weight']])\n",
    "for column in numeric_attributes:\n",
    "    data[column] = imputer.fit_transform(data[[column]])"
   ]
  },
  {
   "cell_type": "code",
   "execution_count": null,
   "metadata": {},
   "outputs": [],
   "source": [
    "# standardize data\n",
    "scaler = StandardScaler()\n",
    "data[data.select_dtypes(include=['float64', 'int64']).columns] = scaler.fit_transform(data.select_dtypes(include=['float64', 'int64']))"
   ]
  },
  {
   "cell_type": "code",
   "execution_count": null,
   "metadata": {},
   "outputs": [],
   "source": [
    "# encode categorical attributes\n",
    "encoder = LabelEncoder()\n",
    "for column in categorical_attributes.columns:\n",
    "    data[column] = encoder.fit_transform(data[column])\n",
    "data['Diagnostic'] = encoder.fit_transform(data['Diagnostic'])"
   ]
  },
  {
   "cell_type": "code",
   "execution_count": null,
   "metadata": {},
   "outputs": [],
   "source": [
    "X_train, X_test, Y_train, Y_test = train_test_split(data, data['Diagnostic'], test_size=0.2, random_state=42)"
   ]
  },
  {
   "cell_type": "code",
   "execution_count": null,
   "metadata": {},
   "outputs": [],
   "source": [
    "# feature selection\n",
    "\n",
    "print(\"Initial features:\")\n",
    "print(data.columns)\n",
    "selectors = [VarianceThreshold(), SelectPercentile()]\n",
    "X_train_selected = selectors[0].fit_transform(X_train)\n",
    "X_test_selected = selectors[0].transform(X_test)\n",
    "print(\"Features after selection:\")\n",
    "selectors[0].get_feature_names_out()"
   ]
  },
  {
   "cell_type": "code",
   "execution_count": null,
   "metadata": {},
   "outputs": [],
   "source": [
    "# hyperparameters\n",
    "\n",
    "param_grid_rf = {'n_estimators': [100, 200, 300],\n",
    "                 'max_depth': [None, 10, 20],\n",
    "                 'max_features': ['sqrt', 'log2']}\n",
    "param_grid_et = {'n_estimators': [100, 200, 300],\n",
    "                 'max_depth': [None, 10, 20],\n",
    "                 'max_features': ['sqrt', 'log2']}\n",
    "param_grid_gb = {'n_estimators': [100, 200, 300],\n",
    "                 'max_depth': [3, 5, 7],\n",
    "                 'learning_rate': [0.1, 0.05, 0.01]}\n",
    "param_grid_svm = {'kernel': ['linear', 'poly', 'rbf'],\n",
    "                  'C': [0.1, 1, 10]}"
   ]
  },
  {
   "cell_type": "code",
   "execution_count": null,
   "metadata": {},
   "outputs": [],
   "source": [
    "models = [RandomForestClassifier(), ExtraTreesClassifier(), xgb.XGBClassifier(), SVC()]\n",
    "\n",
    "grid_search_results = {}\n",
    "\n",
    "for model in models:\n",
    "    if isinstance(model, RandomForestClassifier):\n",
    "        new_model = GridSearchCV(model, param_grid_rf, cv=5)\n",
    "    elif isinstance(model, ExtraTreesClassifier):\n",
    "        new_model = GridSearchCV(model, param_grid_et, cv=5)\n",
    "    elif isinstance(model, xgb.XGBClassifier):\n",
    "        new_model = GridSearchCV(model, param_grid_gb, cv=5)\n",
    "    elif isinstance(model, SVC):\n",
    "        new_model = GridSearchCV(model, param_grid_svm, cv=5)\n",
    "    new_model.fit(X_train_selected, Y_train)\n",
    "    grid_search_results[model.__class__.__name__] = new_model"
   ]
  },
  {
   "cell_type": "code",
   "execution_count": null,
   "metadata": {},
   "outputs": [],
   "source": [
    "for model_name, grid_search in grid_search_results.items():\n",
    "    print(f\"\\nEvaluation for {model_name}:\")\n",
    "    print(\"Hyper-parameter configuration:\")\n",
    "    print(grid_search.best_params_)\n",
    "    print(\"Mean and variance:\")\n",
    "\n",
    "    y_pred = grid_search.predict(X_test_selected)\n",
    "\n",
    "    accuracy = accuracy_score(Y_test, y_pred)\n",
    "    precision = precision_score(Y_test, y_pred, average=None)\n",
    "    recall = recall_score(Y_test, y_pred, average=None)\n",
    "    f1 = f1_score(Y_test, y_pred, average=None)\n",
    "\n",
    "    print(\"Accuracy:\", accuracy)\n",
    "    print(\"Precision:\", precision)\n",
    "    print(\"Recall:\", recall)\n",
    "    print(\"F1:\", f1)\n",
    "\n",
    "    # Confusion matrix for the best model\n",
    "    best_model = grid_search.best_estimator_\n",
    "    y_pred_best = best_model.predict(X_test_selected)\n",
    "    cm = confusion_matrix(Y_test, y_pred_best)\n",
    "    ConfusionMatrixDisplay(cm).plot()"
   ]
  }
 ],
 "metadata": {
  "kernelspec": {
   "display_name": "Python 3",
   "language": "python",
   "name": "python3"
  },
  "language_info": {
   "codemirror_mode": {
    "name": "ipython",
    "version": 3
   },
   "file_extension": ".py",
   "mimetype": "text/x-python",
   "name": "python",
   "nbconvert_exporter": "python",
   "pygments_lexer": "ipython3",
   "version": "3.10.12"
  }
 },
 "nbformat": 4,
 "nbformat_minor": 2
}
