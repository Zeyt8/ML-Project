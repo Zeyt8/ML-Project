{
 "cells": [
  {
   "cell_type": "markdown",
   "metadata": {},
   "source": [
    "# Data Exploration"
   ]
  },
  {
   "cell_type": "code",
   "execution_count": null,
   "metadata": {},
   "outputs": [],
   "source": [
    "# imports\n",
    "\n",
    "import pandas as pd\n",
    "import seaborn as sns\n",
    "import matplotlib.pyplot as plt\n",
    "\n",
    "import numpy as np"
   ]
  },
  {
   "cell_type": "code",
   "execution_count": null,
   "metadata": {},
   "outputs": [],
   "source": [
    "data = pd.read_csv('data.csv', decimal=',')\n",
    "data['Sedentary_hours_daily'] = data['Sedentary_hours_daily'].astype(float)\n",
    "data['Regular_fiber_diet'] = data['Regular_fiber_diet'].astype(float)\n",
    "data['Age'] = data['Age'].astype(float)\n",
    "data['Est_avg_calorie_intake'] = data['Est_avg_calorie_intake'].astype(int)\n",
    "data['Main_meals_daily'] = data['Main_meals_daily'].astype(int)\n",
    "data['Height'] = data['Height'].astype(float)\n",
    "data['Water_daily'] = data['Water_daily'].astype(int)\n",
    "data['Weight'] = data['Weight'].astype(float)\n",
    "data['Physical_activity_level'] = data['Physical_activity_level'].astype(int)\n",
    "data['Technology_time_use'] = data['Technology_time_use'].astype(int)\n",
    "numeric_attributes = data[['Sedentary_hours_daily', 'Regular_fiber_diet', 'Age', 'Est_avg_calorie_intake', 'Main_meals_daily',\\\n",
    "                      'Height', 'Water_daily', 'Weight', 'Physical_activity_level', 'Technology_time_use']]\n",
    "categorical_attributes = data[['Transportation', 'Diagnostic_in_family_history',\\\n",
    "                          'High_calorie_diet', 'Alcohol', 'Snacks', 'Smoker', 'Calorie_monitoring', 'Gender']]"
   ]
  },
  {
   "cell_type": "code",
   "execution_count": null,
   "metadata": {},
   "outputs": [],
   "source": [
    "# Class equilibrium\n",
    "\n",
    "plt.figure(figsize=(6, 4))\n",
    "sns.countplot(x='Diagnostic', data=data)\n",
    "plt.title('Class Frequency in the Dataset')\n",
    "plt.xlabel('Diagnosis')\n",
    "plt.ylabel('Frequency')\n",
    "plt.show()"
   ]
  },
  {
   "cell_type": "code",
   "execution_count": null,
   "metadata": {},
   "outputs": [],
   "source": [
    "# Numerical Attributes\n",
    "\n",
    "mad = lambda x: np.mean(np.abs(x - np.mean(x)))\n",
    "mead = lambda x: np.median(np.abs(x - np.median(x)))\n",
    "\n",
    "for column in numeric_attributes.columns:\n",
    "    print(\"Statistics for column\", column)\n",
    "    print(\"Mean:\", numeric_attributes[column].mean())\n",
    "    print(\"Std Deviation:\", numeric_attributes[column].std())\n",
    "    print(\"Mean Abs Deviation:\", mad(numeric_attributes[column]))\n",
    "    print(\"Min Val:\", numeric_attributes[column].min())\n",
    "    print(\"Max Val:\", numeric_attributes[column].max())\n",
    "    print(\"Amplitude:\", numeric_attributes[column].max() - numeric_attributes[column].min())\n",
    "    print(\"Median:\", numeric_attributes[column].median())\n",
    "    print(\"Median Abs Deviation:\", mead(numeric_attributes[column]))\n",
    "    q1 = numeric_attributes[column].quantile(0.25)\n",
    "    q3 = numeric_attributes[column].quantile(0.75)\n",
    "    print(\"Interquantil Interval:\", q3 - q1)\n",
    "    print()\n",
    "\n",
    "plt.figure(figsize=(8, 6))\n",
    "numeric_attributes.hist(figsize=(12, 10))\n",
    "plt.suptitle('Numerical Attributes Histogram', fontsize=16)\n",
    "plt.show()\n",
    "\n",
    "for column in categorical_attributes.columns:\n",
    "    print(\"Statistics for column\", column)\n",
    "    print(\"Unique values:\", categorical_attributes[column].unique())\n",
    "    print()\n",
    "\n",
    "plt.figure(figsize=(12, 10))\n",
    "for i, column in enumerate(categorical_attributes.columns, 1):\n",
    "    plt.subplot(3, 3, i)\n",
    "    sns.countplot(x=column, data=data)\n",
    "    plt.title(column)\n",
    "    plt.xlabel(\"\")\n",
    "    plt.ylabel(\"Count\")\n",
    "\n",
    "plt.tight_layout()\n",
    "plt.show()"
   ]
  },
  {
   "cell_type": "code",
   "execution_count": null,
   "metadata": {},
   "outputs": [],
   "source": [
    "# Covariance Matrix\n",
    "\n",
    "covariance_matrix = numeric_attributes.corr()\n",
    "plt.figure(figsize=(6, 4))\n",
    "sns.heatmap(covariance_matrix, annot=True, cmap='coolwarm')\n",
    "plt.title('Covariance Matrix')\n",
    "plt.show()\n",
    "\n",
    "plt.figure(figsize=(10, 8))\n",
    "sns.pairplot(data, hue='Diagnostic', diag_kind='kde')\n",
    "plt.title('Pair Diagram and Class Distribution')\n",
    "plt.show()"
   ]
  },
  {
   "cell_type": "markdown",
   "metadata": {},
   "source": [
    "# Learning"
   ]
  },
  {
   "cell_type": "code",
   "execution_count": null,
   "metadata": {},
   "outputs": [],
   "source": [
    "from sklearn.model_selection import GridSearchCV\n",
    "from sklearn.ensemble import RandomForestClassifier, ExtraTreesClassifier\n",
    "import xgboost as xgb\n",
    "from sklearn.svm import SVC\n",
    "from sklearn.experimental import enable_iterative_imputer\n",
    "from sklearn.impute import SimpleImputer, IterativeImputer\n",
    "from sklearn.feature_selection import VarianceThreshold, SelectPercentile\n",
    "from sklearn.preprocessing import StandardScaler"
   ]
  },
  {
   "cell_type": "code",
   "execution_count": null,
   "metadata": {},
   "outputs": [],
   "source": [
    "# standardize data\n",
    "\n",
    "if data.select_dtypes(include=['float64', 'int64']).shape[1] > 0:\n",
    "    scaler = StandardScaler()\n",
    "    data[data.select_dtypes(include=['float64', 'int64']).columns] = scaler.fit_transform(data.select_dtypes(include=['float64', 'int64']))"
   ]
  },
  {
   "cell_type": "code",
   "execution_count": null,
   "metadata": {},
   "outputs": [],
   "source": [
    "# treat missing values\n",
    "\n",
    "imputers = [SimpleImputer(missing_values=-1, strategy='mean'), IterativeImputer(max_iter=10)]\n",
    "data['Weight'] = imputers[0].fit_transform(data[['Weight']])"
   ]
  },
  {
   "cell_type": "code",
   "execution_count": null,
   "metadata": {},
   "outputs": [],
   "source": [
    "# feature selection\n",
    "\n",
    "selectors = [VarianceThreshold(), SelectPercentile()]\n",
    "data_reduced = selectors[0].fit_transform(data)"
   ]
  },
  {
   "cell_type": "code",
   "execution_count": null,
   "metadata": {},
   "outputs": [],
   "source": [
    "# hyperparameters\n",
    "\n",
    "param_grid_rf = {'n_estimators': [100, 200, 300],\n",
    "                 'max_depth': [None, 10, 20],\n",
    "                 'max_features': ['auto', 'sqrt', 'log2']}\n",
    "param_grid_et = {'n_estimators': [100, 200, 300],\n",
    "                 'max_depth': [None, 10, 20],\n",
    "                 'max_features': ['auto', 'sqrt', 'log2']}\n",
    "param_grid_gb = {'n_estimators': [100, 200, 300],\n",
    "                 'max_depth': [3, 5, 7],\n",
    "                 'learning_rate': [0.1, 0.05, 0.01]}\n",
    "param_grid_svm = {'kernel': ['linear', 'poly', 'rbf'],\n",
    "                  'C': [0.1, 1, 10]}"
   ]
  },
  {
   "cell_type": "code",
   "execution_count": null,
   "metadata": {},
   "outputs": [],
   "source": [
    "models = [RandomForestClassifier(), ExtraTreesClassifier(), xgb.XGBClassifier(), SVC()]\n",
    "\n",
    "for model in models:\n",
    "    if isinstance(model, RandomForestClassifier):\n",
    "        new_model = GridSearchCV(model, param_grid_rf, cv=5)\n",
    "    elif isinstance(model, ExtraTreesClassifier):\n",
    "        new_model = GridSearchCV(model, param_grid_et, cv=5)\n",
    "    elif isinstance(model, xgb.XGBClassifier):\n",
    "        new_model = GridSearchCV(model, param_grid_gb, cv=5)\n",
    "    elif isinstance(model, SVC):\n",
    "        new_model = GridSearchCV(model, param_grid_svm, cv=5)\n",
    "    new_model.fit(data_reduced, data['Diagnostic'])\n",
    "    print(f\"{new_model.__name__}: {new_model.best_params_}\")"
   ]
  }
 ],
 "metadata": {
  "kernelspec": {
   "display_name": "Python 3",
   "language": "python",
   "name": "python3"
  },
  "language_info": {
   "codemirror_mode": {
    "name": "ipython",
    "version": 3
   },
   "file_extension": ".py",
   "mimetype": "text/x-python",
   "name": "python",
   "nbconvert_exporter": "python",
   "pygments_lexer": "ipython3",
   "version": "3.10.12"
  }
 },
 "nbformat": 4,
 "nbformat_minor": 2
}
